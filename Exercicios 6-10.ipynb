{
  "cells": [
    {
      "cell_type": "markdown",
      "metadata": {
        "id": "view-in-github",
        "colab_type": "text"
      },
      "source": [
        "<a href=\"https://colab.research.google.com/github/LucasWerppFranco/CP-1---Energias-Renovaveis/blob/ex-6-10/Exercicios%206-10.ipynb\" target=\"_parent\"><img src=\"https://colab.research.google.com/assets/colab-badge.svg\" alt=\"Open In Colab\"/></a>"
      ]
    },
    {
      "cell_type": "markdown",
      "source": [
        "# Exercicio 6-10\n"
      ],
      "metadata": {
        "id": "mzq1ljJS-53I"
      }
    },
    {
      "cell_type": "markdown",
      "source": [
        "Bibliotecas\n"
      ],
      "metadata": {
        "id": "hlNrPOUDYmIn"
      }
    },
    {
      "cell_type": "code",
      "source": [
        "import pandas as pd\n",
        "import matplotlib.pyplot as plt\n",
        "import seaborn as sns\n",
        "df = pd.read_csv(\"/content/individual+household+electric+power+consumption.zip\", sep=\";\")"
      ],
      "metadata": {
        "colab": {
          "base_uri": "https://localhost:8080/"
        },
        "id": "dXE6QA5B-8Hh",
        "outputId": "16a513bc-f2eb-4704-d3b4-4f37f2ccf0b3"
      },
      "execution_count": 12,
      "outputs": [
        {
          "output_type": "stream",
          "name": "stderr",
          "text": [
            "/tmp/ipython-input-120658122.py:4: DtypeWarning: Columns (2,3,4,5,6,7) have mixed types. Specify dtype option on import or set low_memory=False.\n",
            "  df = pd.read_csv(\"/content/individual+household+electric+power+consumption.zip\", sep=\";\")\n"
          ]
        }
      ]
    },
    {
      "cell_type": "markdown",
      "source": [
        "informações\n"
      ],
      "metadata": {
        "id": "xVnmUouaa3wk"
      }
    },
    {
      "cell_type": "code",
      "source": [
        "df.head(11)"
      ],
      "metadata": {
        "colab": {
          "base_uri": "https://localhost:8080/",
          "height": 414
        },
        "id": "YGXf2psqGWUN",
        "outputId": "a1c64521-b0cc-4c0b-aad7-abed580a9fd8"
      },
      "execution_count": 13,
      "outputs": [
        {
          "output_type": "execute_result",
          "data": {
            "text/plain": [
              "          Date      Time Global_active_power Global_reactive_power  Voltage  \\\n",
              "0   16/12/2006  17:24:00               4.216                 0.418  234.840   \n",
              "1   16/12/2006  17:25:00               5.360                 0.436  233.630   \n",
              "2   16/12/2006  17:26:00               5.374                 0.498  233.290   \n",
              "3   16/12/2006  17:27:00               5.388                 0.502  233.740   \n",
              "4   16/12/2006  17:28:00               3.666                 0.528  235.680   \n",
              "5   16/12/2006  17:29:00               3.520                 0.522  235.020   \n",
              "6   16/12/2006  17:30:00               3.702                 0.520  235.090   \n",
              "7   16/12/2006  17:31:00               3.700                 0.520  235.220   \n",
              "8   16/12/2006  17:32:00               3.668                 0.510  233.990   \n",
              "9   16/12/2006  17:33:00               3.662                 0.510  233.860   \n",
              "10  16/12/2006  17:34:00               4.448                 0.498  232.860   \n",
              "\n",
              "   Global_intensity Sub_metering_1 Sub_metering_2  Sub_metering_3  \n",
              "0            18.400          0.000          1.000            17.0  \n",
              "1            23.000          0.000          1.000            16.0  \n",
              "2            23.000          0.000          2.000            17.0  \n",
              "3            23.000          0.000          1.000            17.0  \n",
              "4            15.800          0.000          1.000            17.0  \n",
              "5            15.000          0.000          2.000            17.0  \n",
              "6            15.800          0.000          1.000            17.0  \n",
              "7            15.800          0.000          1.000            17.0  \n",
              "8            15.800          0.000          1.000            17.0  \n",
              "9            15.800          0.000          2.000            16.0  \n",
              "10           19.600          0.000          1.000            17.0  "
            ],
            "text/html": [
              "\n",
              "  <div id=\"df-41631f60-ee7e-42c6-99fb-6175da1a9c06\" class=\"colab-df-container\">\n",
              "    <div>\n",
              "<style scoped>\n",
              "    .dataframe tbody tr th:only-of-type {\n",
              "        vertical-align: middle;\n",
              "    }\n",
              "\n",
              "    .dataframe tbody tr th {\n",
              "        vertical-align: top;\n",
              "    }\n",
              "\n",
              "    .dataframe thead th {\n",
              "        text-align: right;\n",
              "    }\n",
              "</style>\n",
              "<table border=\"1\" class=\"dataframe\">\n",
              "  <thead>\n",
              "    <tr style=\"text-align: right;\">\n",
              "      <th></th>\n",
              "      <th>Date</th>\n",
              "      <th>Time</th>\n",
              "      <th>Global_active_power</th>\n",
              "      <th>Global_reactive_power</th>\n",
              "      <th>Voltage</th>\n",
              "      <th>Global_intensity</th>\n",
              "      <th>Sub_metering_1</th>\n",
              "      <th>Sub_metering_2</th>\n",
              "      <th>Sub_metering_3</th>\n",
              "    </tr>\n",
              "  </thead>\n",
              "  <tbody>\n",
              "    <tr>\n",
              "      <th>0</th>\n",
              "      <td>16/12/2006</td>\n",
              "      <td>17:24:00</td>\n",
              "      <td>4.216</td>\n",
              "      <td>0.418</td>\n",
              "      <td>234.840</td>\n",
              "      <td>18.400</td>\n",
              "      <td>0.000</td>\n",
              "      <td>1.000</td>\n",
              "      <td>17.0</td>\n",
              "    </tr>\n",
              "    <tr>\n",
              "      <th>1</th>\n",
              "      <td>16/12/2006</td>\n",
              "      <td>17:25:00</td>\n",
              "      <td>5.360</td>\n",
              "      <td>0.436</td>\n",
              "      <td>233.630</td>\n",
              "      <td>23.000</td>\n",
              "      <td>0.000</td>\n",
              "      <td>1.000</td>\n",
              "      <td>16.0</td>\n",
              "    </tr>\n",
              "    <tr>\n",
              "      <th>2</th>\n",
              "      <td>16/12/2006</td>\n",
              "      <td>17:26:00</td>\n",
              "      <td>5.374</td>\n",
              "      <td>0.498</td>\n",
              "      <td>233.290</td>\n",
              "      <td>23.000</td>\n",
              "      <td>0.000</td>\n",
              "      <td>2.000</td>\n",
              "      <td>17.0</td>\n",
              "    </tr>\n",
              "    <tr>\n",
              "      <th>3</th>\n",
              "      <td>16/12/2006</td>\n",
              "      <td>17:27:00</td>\n",
              "      <td>5.388</td>\n",
              "      <td>0.502</td>\n",
              "      <td>233.740</td>\n",
              "      <td>23.000</td>\n",
              "      <td>0.000</td>\n",
              "      <td>1.000</td>\n",
              "      <td>17.0</td>\n",
              "    </tr>\n",
              "    <tr>\n",
              "      <th>4</th>\n",
              "      <td>16/12/2006</td>\n",
              "      <td>17:28:00</td>\n",
              "      <td>3.666</td>\n",
              "      <td>0.528</td>\n",
              "      <td>235.680</td>\n",
              "      <td>15.800</td>\n",
              "      <td>0.000</td>\n",
              "      <td>1.000</td>\n",
              "      <td>17.0</td>\n",
              "    </tr>\n",
              "    <tr>\n",
              "      <th>5</th>\n",
              "      <td>16/12/2006</td>\n",
              "      <td>17:29:00</td>\n",
              "      <td>3.520</td>\n",
              "      <td>0.522</td>\n",
              "      <td>235.020</td>\n",
              "      <td>15.000</td>\n",
              "      <td>0.000</td>\n",
              "      <td>2.000</td>\n",
              "      <td>17.0</td>\n",
              "    </tr>\n",
              "    <tr>\n",
              "      <th>6</th>\n",
              "      <td>16/12/2006</td>\n",
              "      <td>17:30:00</td>\n",
              "      <td>3.702</td>\n",
              "      <td>0.520</td>\n",
              "      <td>235.090</td>\n",
              "      <td>15.800</td>\n",
              "      <td>0.000</td>\n",
              "      <td>1.000</td>\n",
              "      <td>17.0</td>\n",
              "    </tr>\n",
              "    <tr>\n",
              "      <th>7</th>\n",
              "      <td>16/12/2006</td>\n",
              "      <td>17:31:00</td>\n",
              "      <td>3.700</td>\n",
              "      <td>0.520</td>\n",
              "      <td>235.220</td>\n",
              "      <td>15.800</td>\n",
              "      <td>0.000</td>\n",
              "      <td>1.000</td>\n",
              "      <td>17.0</td>\n",
              "    </tr>\n",
              "    <tr>\n",
              "      <th>8</th>\n",
              "      <td>16/12/2006</td>\n",
              "      <td>17:32:00</td>\n",
              "      <td>3.668</td>\n",
              "      <td>0.510</td>\n",
              "      <td>233.990</td>\n",
              "      <td>15.800</td>\n",
              "      <td>0.000</td>\n",
              "      <td>1.000</td>\n",
              "      <td>17.0</td>\n",
              "    </tr>\n",
              "    <tr>\n",
              "      <th>9</th>\n",
              "      <td>16/12/2006</td>\n",
              "      <td>17:33:00</td>\n",
              "      <td>3.662</td>\n",
              "      <td>0.510</td>\n",
              "      <td>233.860</td>\n",
              "      <td>15.800</td>\n",
              "      <td>0.000</td>\n",
              "      <td>2.000</td>\n",
              "      <td>16.0</td>\n",
              "    </tr>\n",
              "    <tr>\n",
              "      <th>10</th>\n",
              "      <td>16/12/2006</td>\n",
              "      <td>17:34:00</td>\n",
              "      <td>4.448</td>\n",
              "      <td>0.498</td>\n",
              "      <td>232.860</td>\n",
              "      <td>19.600</td>\n",
              "      <td>0.000</td>\n",
              "      <td>1.000</td>\n",
              "      <td>17.0</td>\n",
              "    </tr>\n",
              "  </tbody>\n",
              "</table>\n",
              "</div>\n",
              "    <div class=\"colab-df-buttons\">\n",
              "\n",
              "  <div class=\"colab-df-container\">\n",
              "    <button class=\"colab-df-convert\" onclick=\"convertToInteractive('df-41631f60-ee7e-42c6-99fb-6175da1a9c06')\"\n",
              "            title=\"Convert this dataframe to an interactive table.\"\n",
              "            style=\"display:none;\">\n",
              "\n",
              "  <svg xmlns=\"http://www.w3.org/2000/svg\" height=\"24px\" viewBox=\"0 -960 960 960\">\n",
              "    <path d=\"M120-120v-720h720v720H120Zm60-500h600v-160H180v160Zm220 220h160v-160H400v160Zm0 220h160v-160H400v160ZM180-400h160v-160H180v160Zm440 0h160v-160H620v160ZM180-180h160v-160H180v160Zm440 0h160v-160H620v160Z\"/>\n",
              "  </svg>\n",
              "    </button>\n",
              "\n",
              "  <style>\n",
              "    .colab-df-container {\n",
              "      display:flex;\n",
              "      gap: 12px;\n",
              "    }\n",
              "\n",
              "    .colab-df-convert {\n",
              "      background-color: #E8F0FE;\n",
              "      border: none;\n",
              "      border-radius: 50%;\n",
              "      cursor: pointer;\n",
              "      display: none;\n",
              "      fill: #1967D2;\n",
              "      height: 32px;\n",
              "      padding: 0 0 0 0;\n",
              "      width: 32px;\n",
              "    }\n",
              "\n",
              "    .colab-df-convert:hover {\n",
              "      background-color: #E2EBFA;\n",
              "      box-shadow: 0px 1px 2px rgba(60, 64, 67, 0.3), 0px 1px 3px 1px rgba(60, 64, 67, 0.15);\n",
              "      fill: #174EA6;\n",
              "    }\n",
              "\n",
              "    .colab-df-buttons div {\n",
              "      margin-bottom: 4px;\n",
              "    }\n",
              "\n",
              "    [theme=dark] .colab-df-convert {\n",
              "      background-color: #3B4455;\n",
              "      fill: #D2E3FC;\n",
              "    }\n",
              "\n",
              "    [theme=dark] .colab-df-convert:hover {\n",
              "      background-color: #434B5C;\n",
              "      box-shadow: 0px 1px 3px 1px rgba(0, 0, 0, 0.15);\n",
              "      filter: drop-shadow(0px 1px 2px rgba(0, 0, 0, 0.3));\n",
              "      fill: #FFFFFF;\n",
              "    }\n",
              "  </style>\n",
              "\n",
              "    <script>\n",
              "      const buttonEl =\n",
              "        document.querySelector('#df-41631f60-ee7e-42c6-99fb-6175da1a9c06 button.colab-df-convert');\n",
              "      buttonEl.style.display =\n",
              "        google.colab.kernel.accessAllowed ? 'block' : 'none';\n",
              "\n",
              "      async function convertToInteractive(key) {\n",
              "        const element = document.querySelector('#df-41631f60-ee7e-42c6-99fb-6175da1a9c06');\n",
              "        const dataTable =\n",
              "          await google.colab.kernel.invokeFunction('convertToInteractive',\n",
              "                                                    [key], {});\n",
              "        if (!dataTable) return;\n",
              "\n",
              "        const docLinkHtml = 'Like what you see? Visit the ' +\n",
              "          '<a target=\"_blank\" href=https://colab.research.google.com/notebooks/data_table.ipynb>data table notebook</a>'\n",
              "          + ' to learn more about interactive tables.';\n",
              "        element.innerHTML = '';\n",
              "        dataTable['output_type'] = 'display_data';\n",
              "        await google.colab.output.renderOutput(dataTable, element);\n",
              "        const docLink = document.createElement('div');\n",
              "        docLink.innerHTML = docLinkHtml;\n",
              "        element.appendChild(docLink);\n",
              "      }\n",
              "    </script>\n",
              "  </div>\n",
              "\n",
              "\n",
              "    <div id=\"df-31d9dd09-78f2-4828-96ec-e541da00313a\">\n",
              "      <button class=\"colab-df-quickchart\" onclick=\"quickchart('df-31d9dd09-78f2-4828-96ec-e541da00313a')\"\n",
              "                title=\"Suggest charts\"\n",
              "                style=\"display:none;\">\n",
              "\n",
              "<svg xmlns=\"http://www.w3.org/2000/svg\" height=\"24px\"viewBox=\"0 0 24 24\"\n",
              "     width=\"24px\">\n",
              "    <g>\n",
              "        <path d=\"M19 3H5c-1.1 0-2 .9-2 2v14c0 1.1.9 2 2 2h14c1.1 0 2-.9 2-2V5c0-1.1-.9-2-2-2zM9 17H7v-7h2v7zm4 0h-2V7h2v10zm4 0h-2v-4h2v4z\"/>\n",
              "    </g>\n",
              "</svg>\n",
              "      </button>\n",
              "\n",
              "<style>\n",
              "  .colab-df-quickchart {\n",
              "      --bg-color: #E8F0FE;\n",
              "      --fill-color: #1967D2;\n",
              "      --hover-bg-color: #E2EBFA;\n",
              "      --hover-fill-color: #174EA6;\n",
              "      --disabled-fill-color: #AAA;\n",
              "      --disabled-bg-color: #DDD;\n",
              "  }\n",
              "\n",
              "  [theme=dark] .colab-df-quickchart {\n",
              "      --bg-color: #3B4455;\n",
              "      --fill-color: #D2E3FC;\n",
              "      --hover-bg-color: #434B5C;\n",
              "      --hover-fill-color: #FFFFFF;\n",
              "      --disabled-bg-color: #3B4455;\n",
              "      --disabled-fill-color: #666;\n",
              "  }\n",
              "\n",
              "  .colab-df-quickchart {\n",
              "    background-color: var(--bg-color);\n",
              "    border: none;\n",
              "    border-radius: 50%;\n",
              "    cursor: pointer;\n",
              "    display: none;\n",
              "    fill: var(--fill-color);\n",
              "    height: 32px;\n",
              "    padding: 0;\n",
              "    width: 32px;\n",
              "  }\n",
              "\n",
              "  .colab-df-quickchart:hover {\n",
              "    background-color: var(--hover-bg-color);\n",
              "    box-shadow: 0 1px 2px rgba(60, 64, 67, 0.3), 0 1px 3px 1px rgba(60, 64, 67, 0.15);\n",
              "    fill: var(--button-hover-fill-color);\n",
              "  }\n",
              "\n",
              "  .colab-df-quickchart-complete:disabled,\n",
              "  .colab-df-quickchart-complete:disabled:hover {\n",
              "    background-color: var(--disabled-bg-color);\n",
              "    fill: var(--disabled-fill-color);\n",
              "    box-shadow: none;\n",
              "  }\n",
              "\n",
              "  .colab-df-spinner {\n",
              "    border: 2px solid var(--fill-color);\n",
              "    border-color: transparent;\n",
              "    border-bottom-color: var(--fill-color);\n",
              "    animation:\n",
              "      spin 1s steps(1) infinite;\n",
              "  }\n",
              "\n",
              "  @keyframes spin {\n",
              "    0% {\n",
              "      border-color: transparent;\n",
              "      border-bottom-color: var(--fill-color);\n",
              "      border-left-color: var(--fill-color);\n",
              "    }\n",
              "    20% {\n",
              "      border-color: transparent;\n",
              "      border-left-color: var(--fill-color);\n",
              "      border-top-color: var(--fill-color);\n",
              "    }\n",
              "    30% {\n",
              "      border-color: transparent;\n",
              "      border-left-color: var(--fill-color);\n",
              "      border-top-color: var(--fill-color);\n",
              "      border-right-color: var(--fill-color);\n",
              "    }\n",
              "    40% {\n",
              "      border-color: transparent;\n",
              "      border-right-color: var(--fill-color);\n",
              "      border-top-color: var(--fill-color);\n",
              "    }\n",
              "    60% {\n",
              "      border-color: transparent;\n",
              "      border-right-color: var(--fill-color);\n",
              "    }\n",
              "    80% {\n",
              "      border-color: transparent;\n",
              "      border-right-color: var(--fill-color);\n",
              "      border-bottom-color: var(--fill-color);\n",
              "    }\n",
              "    90% {\n",
              "      border-color: transparent;\n",
              "      border-bottom-color: var(--fill-color);\n",
              "    }\n",
              "  }\n",
              "</style>\n",
              "\n",
              "      <script>\n",
              "        async function quickchart(key) {\n",
              "          const quickchartButtonEl =\n",
              "            document.querySelector('#' + key + ' button');\n",
              "          quickchartButtonEl.disabled = true;  // To prevent multiple clicks.\n",
              "          quickchartButtonEl.classList.add('colab-df-spinner');\n",
              "          try {\n",
              "            const charts = await google.colab.kernel.invokeFunction(\n",
              "                'suggestCharts', [key], {});\n",
              "          } catch (error) {\n",
              "            console.error('Error during call to suggestCharts:', error);\n",
              "          }\n",
              "          quickchartButtonEl.classList.remove('colab-df-spinner');\n",
              "          quickchartButtonEl.classList.add('colab-df-quickchart-complete');\n",
              "        }\n",
              "        (() => {\n",
              "          let quickchartButtonEl =\n",
              "            document.querySelector('#df-31d9dd09-78f2-4828-96ec-e541da00313a button');\n",
              "          quickchartButtonEl.style.display =\n",
              "            google.colab.kernel.accessAllowed ? 'block' : 'none';\n",
              "        })();\n",
              "      </script>\n",
              "    </div>\n",
              "\n",
              "    </div>\n",
              "  </div>\n"
            ],
            "application/vnd.google.colaboratory.intrinsic+json": {
              "type": "dataframe",
              "variable_name": "df"
            }
          },
          "metadata": {},
          "execution_count": 13
        }
      ]
    },
    {
      "cell_type": "code",
      "source": [
        "df.info()"
      ],
      "metadata": {
        "colab": {
          "base_uri": "https://localhost:8080/"
        },
        "id": "M1Puplq_M5qg",
        "outputId": "ebe426f7-1622-4b37-8c6c-48169f0ba0a5"
      },
      "execution_count": 17,
      "outputs": [
        {
          "output_type": "stream",
          "name": "stdout",
          "text": [
            "<class 'pandas.core.frame.DataFrame'>\n",
            "RangeIndex: 2075259 entries, 0 to 2075258\n",
            "Data columns (total 9 columns):\n",
            " #   Column                 Dtype  \n",
            "---  ------                 -----  \n",
            " 0   Date                   object \n",
            " 1   Time                   object \n",
            " 2   Global_active_power    object \n",
            " 3   Global_reactive_power  object \n",
            " 4   Voltage                object \n",
            " 5   Global_intensity       object \n",
            " 6   Sub_metering_1         object \n",
            " 7   Sub_metering_2         object \n",
            " 8   Sub_metering_3         float64\n",
            "dtypes: float64(1), object(8)\n",
            "memory usage: 142.5+ MB\n"
          ]
        }
      ]
    },
    {
      "cell_type": "markdown",
      "source": [
        "# Exercicio 6\n",
        "Gere um gráfico de linha mostrando a variação de Global_active_power em um único dia à sua\n",
        "escolha"
      ],
      "metadata": {
        "id": "G8J25XQaTLAi"
      }
    },
    {
      "cell_type": "code",
      "metadata": {
        "id": "3f96e40e"
      },
      "source": [
        "df['Global_active_power'] = pd.to_numeric(df['Global_active_power'], errors='coerce')\n",
        "\n",
        "df.dropna(subset=['Global_active_power'], inplace=True)\n",
        "\n",
        "df['Global_active_power'] = df['Global_active_power'].astype(int)\n",
        "\n"
      ],
      "execution_count": 38,
      "outputs": []
    },
    {
      "cell_type": "code",
      "source": [
        "date_to_plot = df['Date'].iloc[0]\n",
        "\n",
        "df_single_day = df[df['Date'] == date_to_plot].copy()\n",
        "\n",
        "df_single_day['datetime'] = pd.to_datetime(df_single_day['Date'].astype(str) + ' ' + df_single_day['Time'], format='%Y-%m-%d %H:%M:%S')\n",
        "\n",
        "\n",
        "df_single_day.set_index('datetime', inplace=True)\n",
        "\n",
        "df_single_day['Global_active_power'] = pd.to_numeric(df_single_day['Global_active_power'], errors='coerce')\n",
        "df_single_day.dropna(subset=['Global_active_power'], inplace=True)\n",
        "\n",
        "plt.figure(figsize=(12, 6))\n",
        "sns.lineplot(x=df_single_day.index, y='Global_active_power', data=df_single_day)\n",
        "plt.title(f'Energia ativa global em {date_to_plot.strftime(\"%d/%m/%Y\")}')\n",
        "plt.xlabel('Tempo')\n",
        "plt.ylabel('Energia ativa global (kilowatts)')\n",
        "plt.xticks(rotation=45)\n",
        "plt.tight_layout()\n",
        "plt.show()"
      ],
      "metadata": {
        "colab": {
          "base_uri": "https://localhost:8080/",
          "height": 441
        },
        "id": "zDt7tjaegEMm",
        "outputId": "46f26b74-4f60-4661-9fb7-f36880532007"
      },
      "execution_count": 45,
      "outputs": [
        {
          "output_type": "display_data",
          "data": {
            "text/plain": [
              "<Figure size 1200x600 with 1 Axes>"
            ],
            "image/png": "[encoded data removed]"
          },
          "metadata": {}
        }
      ]
    },
    {
      "cell_type": "markdown",
      "source": [
        "# Exercicio 7\n",
        "Crie um histograma da variável Voltage. O que pode ser observado sobre sua distribuição?\n"
      ],
      "metadata": {
        "id": "arp-SGrjTQOS"
      }
    },
    {
      "cell_type": "code",
      "source": [
        "df['Voltage'] = pd.to_numeric(df['Voltage'], errors='coerce')\n",
        "\n",
        "df.dropna(subset=['Voltage'], inplace=True)\n",
        "\n",
        "df['Voltage'] = df['Voltage'].astype(int)\n",
        "\n"
      ],
      "metadata": {
        "id": "zMgQQ5THf3lN"
      },
      "execution_count": 36,
      "outputs": []
    },
    {
      "cell_type": "code",
      "source": [
        "df[\"Voltage\"].hist()"
      ],
      "metadata": {
        "colab": {
          "base_uri": "https://localhost:8080/",
          "height": 447
        },
        "id": "KTPyz8Z0XayZ",
        "outputId": "c26ffcab-a310-448c-9242-6da87e0676d4"
      },
      "execution_count": 37,
      "outputs": [
        {
          "output_type": "execute_result",
          "data": {
            "text/plain": [
              "<Axes: >"
            ]
          },
          "metadata": {},
          "execution_count": 37
        },
        {
          "output_type": "display_data",
          "data": {
            "text/plain": [
              "<Figure size 640x480 with 1 Axes>"
            ],
            "image/png": "[encoded data removed]"
          },
          "metadata": {}
        }
      ]
    },
    {
      "cell_type": "markdown",
      "source": [
        "# Exercicio 8\n",
        " Calcule o consumo médio por mês em todo o período disponível no dataset."
      ],
      "metadata": {
        "id": "vnlnsH2FXfc4"
      }
    },
    {
      "cell_type": "code",
      "source": [
        "media=df[].mean()\n",
        "print(f\"O consumo medio por mes é de {media:.2f} \")"
      ],
      "metadata": {
        "colab": {
          "base_uri": "https://localhost:8080/",
          "height": 106
        },
        "id": "mSb8OV2DXhfw",
        "outputId": "ce2afc64-ea85-42b2-c62d-f7533ec5113f"
      },
      "execution_count": 19,
      "outputs": [
        {
          "output_type": "error",
          "ename": "SyntaxError",
          "evalue": "invalid syntax (ipython-input-4128919493.py, line 1)",
          "traceback": [
            "\u001b[0;36m  File \u001b[0;32m\"/tmp/ipython-input-4128919493.py\"\u001b[0;36m, line \u001b[0;32m1\u001b[0m\n\u001b[0;31m    media=df[].mean()\u001b[0m\n\u001b[0m             ^\u001b[0m\n\u001b[0;31mSyntaxError\u001b[0m\u001b[0;31m:\u001b[0m invalid syntax\n"
          ]
        }
      ]
    },
    {
      "cell_type": "markdown",
      "source": [
        "# Exercicio 9\n",
        " Identifique o dia com maior consumo de energia ativa global (Global_active_power)."
      ],
      "metadata": {
        "id": "-l74DS_DX3KC"
      }
    },
    {
      "cell_type": "code",
      "source": [
        "consumo_diario = df.groupby('Date')['Global_active_power'].sum()\n",
        "\n",
        "dia_maior_consumo = consumo_diario.idxmax()\n",
        "valor_maior_consumo = consumo_diario.max()\n",
        "\n",
        "print(f\"O dia com maior consumo de energia ativa global é {dia_maior_consumo} com um total de {valor_maior_consumo} kW.\")"
      ],
      "metadata": {
        "colab": {
          "base_uri": "https://localhost:8080/"
        },
        "id": "6mln0ewydw4n",
        "outputId": "866e6a50-4a75-432d-8ebd-147adb7a0585"
      },
      "execution_count": 28,
      "outputs": [
        {
          "output_type": "stream",
          "name": "stdout",
          "text": [
            "O dia com maior consumo de energia ativa global é 2006-12-23 00:00:00 com um total de 4037 kW.\n"
          ]
        }
      ]
    },
    {
      "cell_type": "markdown",
      "source": [
        "# Exercicio 10\n",
        "Compare o consumo médio de energia ativa global em dias de semana versus finais de\n",
        "semana."
      ],
      "metadata": {
        "id": "lt342tclbzwL"
      }
    },
    {
      "cell_type": "code",
      "metadata": {
        "colab": {
          "base_uri": "https://localhost:8080/"
        },
        "id": "7b0515ef",
        "outputId": "c40092b5-197a-4e97-ec0e-d3904b821ba6"
      },
      "source": [
        "df['Date'] = pd.to_datetime(df['Date'], format='%d/%m/%Y')\n",
        "\n",
        "df['Day_of_week'] = df['Date'].dt.dayofweek\n",
        "\n",
        "df['Day_type'] = df['Day_of_week'].apply(lambda x: 'dias da semana' if x < 5 else 'finais de semana')\n",
        "\n",
        "average_consumption_by_day_type = df.groupby('Day_type')['Global_active_power'].mean()\n",
        "\n",
        "print(\"Consumo médio de energia ativa global:\")\n",
        "print(average_consumption_by_day_type)"
      ],
      "execution_count": 27,
      "outputs": [
        {
          "output_type": "stream",
          "name": "stdout",
          "text": [
            "Consumo médio de energia ativa global:\n",
            "Day_type\n",
            "dias da semana      0.629897\n",
            "finais de semana    0.806726\n",
            "Name: Global_active_power, dtype: float64\n"
          ]
        }
      ]
    }
  ],
  "metadata": {
    "colab": {
      "name": "Damos-lhe as boas-vindas ao Colab",
      "toc_visible": true,
      "provenance": [],
      "include_colab_link": true
    },
    "kernelspec": {
      "display_name": "Python 3",
      "name": "python3"
    }
  },
  "nbformat": 4,
  "nbformat_minor": 0
}